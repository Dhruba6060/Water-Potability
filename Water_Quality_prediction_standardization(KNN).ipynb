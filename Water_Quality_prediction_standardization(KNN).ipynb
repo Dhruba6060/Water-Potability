{
  "cells": [
    {
      "cell_type": "code",
      "execution_count": null,
      "metadata": {
        "id": "YPViSjb0zN-2"
      },
      "outputs": [],
      "source": [
        "import pandas as pd\n",
        "import numpy as np\n",
        "from sklearn.model_selection import train_test_split\n",
        "from sklearn.preprocessing import StandardScaler\n",
        "from sklearn import metrics\n",
        "import matplotlib.pyplot as plt\n",
        "import seaborn as sns"
      ]
    },
    {
      "cell_type": "code",
      "execution_count": null,
      "metadata": {
        "colab": {
          "base_uri": "https://localhost:8080/",
          "height": 206
        },
        "id": "E-vq_f1t0l0y",
        "outputId": "fe9b601d-7b17-4a5c-e2a7-65b46481fb5e"
      },
      "outputs": [
        {
          "output_type": "execute_result",
          "data": {
            "text/plain": [
              "            ph    Hardness        Solids  Chloramines     Sulfate  \\\n",
              "1220  5.068796  211.689502  22781.364534     5.330123  317.103903   \n",
              "2113  6.519848  183.225998  14284.647917     8.389078  373.091575   \n",
              "1849  8.613699  235.944436  20862.455871     7.622565  378.758715   \n",
              "494        NaN  162.626287  21318.961685     7.575279  289.208408   \n",
              "2423  7.074251  208.920369  16739.266635     7.861469         NaN   \n",
              "\n",
              "      Conductivity  Organic_carbon  Trihalomethanes  Turbidity  Potability  \n",
              "1220    483.442018       14.495791        77.212274   4.362086           1  \n",
              "2113    495.417954       11.638475        58.661649   3.272286           0  \n",
              "1849    418.697530       13.608075              NaN   3.949220           0  \n",
              "494     457.811556        7.477315        60.238478   4.514982           0  \n",
              "2423    518.977153        8.881999        78.419019   4.878944           1  "
            ],
            "text/html": [
              "\n",
              "  <div id=\"df-c07da690-a035-4a91-ab7a-fdd6377da9bf\">\n",
              "    <div class=\"colab-df-container\">\n",
              "      <div>\n",
              "<style scoped>\n",
              "    .dataframe tbody tr th:only-of-type {\n",
              "        vertical-align: middle;\n",
              "    }\n",
              "\n",
              "    .dataframe tbody tr th {\n",
              "        vertical-align: top;\n",
              "    }\n",
              "\n",
              "    .dataframe thead th {\n",
              "        text-align: right;\n",
              "    }\n",
              "</style>\n",
              "<table border=\"1\" class=\"dataframe\">\n",
              "  <thead>\n",
              "    <tr style=\"text-align: right;\">\n",
              "      <th></th>\n",
              "      <th>ph</th>\n",
              "      <th>Hardness</th>\n",
              "      <th>Solids</th>\n",
              "      <th>Chloramines</th>\n",
              "      <th>Sulfate</th>\n",
              "      <th>Conductivity</th>\n",
              "      <th>Organic_carbon</th>\n",
              "      <th>Trihalomethanes</th>\n",
              "      <th>Turbidity</th>\n",
              "      <th>Potability</th>\n",
              "    </tr>\n",
              "  </thead>\n",
              "  <tbody>\n",
              "    <tr>\n",
              "      <th>1220</th>\n",
              "      <td>5.068796</td>\n",
              "      <td>211.689502</td>\n",
              "      <td>22781.364534</td>\n",
              "      <td>5.330123</td>\n",
              "      <td>317.103903</td>\n",
              "      <td>483.442018</td>\n",
              "      <td>14.495791</td>\n",
              "      <td>77.212274</td>\n",
              "      <td>4.362086</td>\n",
              "      <td>1</td>\n",
              "    </tr>\n",
              "    <tr>\n",
              "      <th>2113</th>\n",
              "      <td>6.519848</td>\n",
              "      <td>183.225998</td>\n",
              "      <td>14284.647917</td>\n",
              "      <td>8.389078</td>\n",
              "      <td>373.091575</td>\n",
              "      <td>495.417954</td>\n",
              "      <td>11.638475</td>\n",
              "      <td>58.661649</td>\n",
              "      <td>3.272286</td>\n",
              "      <td>0</td>\n",
              "    </tr>\n",
              "    <tr>\n",
              "      <th>1849</th>\n",
              "      <td>8.613699</td>\n",
              "      <td>235.944436</td>\n",
              "      <td>20862.455871</td>\n",
              "      <td>7.622565</td>\n",
              "      <td>378.758715</td>\n",
              "      <td>418.697530</td>\n",
              "      <td>13.608075</td>\n",
              "      <td>NaN</td>\n",
              "      <td>3.949220</td>\n",
              "      <td>0</td>\n",
              "    </tr>\n",
              "    <tr>\n",
              "      <th>494</th>\n",
              "      <td>NaN</td>\n",
              "      <td>162.626287</td>\n",
              "      <td>21318.961685</td>\n",
              "      <td>7.575279</td>\n",
              "      <td>289.208408</td>\n",
              "      <td>457.811556</td>\n",
              "      <td>7.477315</td>\n",
              "      <td>60.238478</td>\n",
              "      <td>4.514982</td>\n",
              "      <td>0</td>\n",
              "    </tr>\n",
              "    <tr>\n",
              "      <th>2423</th>\n",
              "      <td>7.074251</td>\n",
              "      <td>208.920369</td>\n",
              "      <td>16739.266635</td>\n",
              "      <td>7.861469</td>\n",
              "      <td>NaN</td>\n",
              "      <td>518.977153</td>\n",
              "      <td>8.881999</td>\n",
              "      <td>78.419019</td>\n",
              "      <td>4.878944</td>\n",
              "      <td>1</td>\n",
              "    </tr>\n",
              "  </tbody>\n",
              "</table>\n",
              "</div>\n",
              "      <button class=\"colab-df-convert\" onclick=\"convertToInteractive('df-c07da690-a035-4a91-ab7a-fdd6377da9bf')\"\n",
              "              title=\"Convert this dataframe to an interactive table.\"\n",
              "              style=\"display:none;\">\n",
              "        \n",
              "  <svg xmlns=\"http://www.w3.org/2000/svg\" height=\"24px\"viewBox=\"0 0 24 24\"\n",
              "       width=\"24px\">\n",
              "    <path d=\"M0 0h24v24H0V0z\" fill=\"none\"/>\n",
              "    <path d=\"M18.56 5.44l.94 2.06.94-2.06 2.06-.94-2.06-.94-.94-2.06-.94 2.06-2.06.94zm-11 1L8.5 8.5l.94-2.06 2.06-.94-2.06-.94L8.5 2.5l-.94 2.06-2.06.94zm10 10l.94 2.06.94-2.06 2.06-.94-2.06-.94-.94-2.06-.94 2.06-2.06.94z\"/><path d=\"M17.41 7.96l-1.37-1.37c-.4-.4-.92-.59-1.43-.59-.52 0-1.04.2-1.43.59L10.3 9.45l-7.72 7.72c-.78.78-.78 2.05 0 2.83L4 21.41c.39.39.9.59 1.41.59.51 0 1.02-.2 1.41-.59l7.78-7.78 2.81-2.81c.8-.78.8-2.07 0-2.86zM5.41 20L4 18.59l7.72-7.72 1.47 1.35L5.41 20z\"/>\n",
              "  </svg>\n",
              "      </button>\n",
              "      \n",
              "  <style>\n",
              "    .colab-df-container {\n",
              "      display:flex;\n",
              "      flex-wrap:wrap;\n",
              "      gap: 12px;\n",
              "    }\n",
              "\n",
              "    .colab-df-convert {\n",
              "      background-color: #E8F0FE;\n",
              "      border: none;\n",
              "      border-radius: 50%;\n",
              "      cursor: pointer;\n",
              "      display: none;\n",
              "      fill: #1967D2;\n",
              "      height: 32px;\n",
              "      padding: 0 0 0 0;\n",
              "      width: 32px;\n",
              "    }\n",
              "\n",
              "    .colab-df-convert:hover {\n",
              "      background-color: #E2EBFA;\n",
              "      box-shadow: 0px 1px 2px rgba(60, 64, 67, 0.3), 0px 1px 3px 1px rgba(60, 64, 67, 0.15);\n",
              "      fill: #174EA6;\n",
              "    }\n",
              "\n",
              "    [theme=dark] .colab-df-convert {\n",
              "      background-color: #3B4455;\n",
              "      fill: #D2E3FC;\n",
              "    }\n",
              "\n",
              "    [theme=dark] .colab-df-convert:hover {\n",
              "      background-color: #434B5C;\n",
              "      box-shadow: 0px 1px 3px 1px rgba(0, 0, 0, 0.15);\n",
              "      filter: drop-shadow(0px 1px 2px rgba(0, 0, 0, 0.3));\n",
              "      fill: #FFFFFF;\n",
              "    }\n",
              "  </style>\n",
              "\n",
              "      <script>\n",
              "        const buttonEl =\n",
              "          document.querySelector('#df-c07da690-a035-4a91-ab7a-fdd6377da9bf button.colab-df-convert');\n",
              "        buttonEl.style.display =\n",
              "          google.colab.kernel.accessAllowed ? 'block' : 'none';\n",
              "\n",
              "        async function convertToInteractive(key) {\n",
              "          const element = document.querySelector('#df-c07da690-a035-4a91-ab7a-fdd6377da9bf');\n",
              "          const dataTable =\n",
              "            await google.colab.kernel.invokeFunction('convertToInteractive',\n",
              "                                                     [key], {});\n",
              "          if (!dataTable) return;\n",
              "\n",
              "          const docLinkHtml = 'Like what you see? Visit the ' +\n",
              "            '<a target=\"_blank\" href=https://colab.research.google.com/notebooks/data_table.ipynb>data table notebook</a>'\n",
              "            + ' to learn more about interactive tables.';\n",
              "          element.innerHTML = '';\n",
              "          dataTable['output_type'] = 'display_data';\n",
              "          await google.colab.output.renderOutput(dataTable, element);\n",
              "          const docLink = document.createElement('div');\n",
              "          docLink.innerHTML = docLinkHtml;\n",
              "          element.appendChild(docLink);\n",
              "        }\n",
              "      </script>\n",
              "    </div>\n",
              "  </div>\n",
              "  "
            ]
          },
          "metadata": {},
          "execution_count": 2
        }
      ],
      "source": [
        "data = pd.read_csv(\"/content/drive/MyDrive/water_potability.csv\")\n",
        "data.sample(5)"
      ]
    },
    {
      "cell_type": "code",
      "execution_count": null,
      "metadata": {
        "colab": {
          "base_uri": "https://localhost:8080/"
        },
        "id": "JyIxoA9k0shP",
        "outputId": "31c38cae-21bf-43e2-a633-a84c41277726"
      },
      "outputs": [
        {
          "output_type": "execute_result",
          "data": {
            "text/plain": [
              "(3276, 10)"
            ]
          },
          "metadata": {},
          "execution_count": 3
        }
      ],
      "source": [
        "data.shape"
      ]
    },
    {
      "cell_type": "code",
      "execution_count": null,
      "metadata": {
        "colab": {
          "base_uri": "https://localhost:8080/"
        },
        "id": "qOn_PJ3M3Zhr",
        "outputId": "cd598314-1327-4e5c-e7f8-407e8c529854"
      },
      "outputs": [
        {
          "output_type": "execute_result",
          "data": {
            "text/plain": [
              "0    1998\n",
              "1    1278\n",
              "Name: Potability, dtype: int64"
            ]
          },
          "metadata": {},
          "execution_count": 4
        }
      ],
      "source": [
        "data['Potability'].value_counts()"
      ]
    },
    {
      "cell_type": "code",
      "execution_count": null,
      "metadata": {
        "colab": {
          "base_uri": "https://localhost:8080/"
        },
        "id": "HJMzuz8N0wDx",
        "outputId": "0dae71c0-4e81-4f30-aa83-4dae7f56af07"
      },
      "outputs": [
        {
          "output_type": "execute_result",
          "data": {
            "text/plain": [
              "ph                 14.987790\n",
              "Hardness            0.000000\n",
              "Solids              0.000000\n",
              "Chloramines         0.000000\n",
              "Sulfate            23.840049\n",
              "Conductivity        0.000000\n",
              "Organic_carbon      0.000000\n",
              "Trihalomethanes     4.945055\n",
              "Turbidity           0.000000\n",
              "Potability          0.000000\n",
              "dtype: float64"
            ]
          },
          "metadata": {},
          "execution_count": 5
        }
      ],
      "source": [
        "data.isnull().mean()*100"
      ]
    },
    {
      "cell_type": "code",
      "execution_count": null,
      "metadata": {
        "colab": {
          "base_uri": "https://localhost:8080/"
        },
        "id": "E6gLlxWH0sqB",
        "outputId": "bb1016ca-34d7-43c5-845e-662af8ee39e1"
      },
      "outputs": [
        {
          "output_type": "execute_result",
          "data": {
            "text/plain": [
              "ph                 0.0\n",
              "Hardness           0.0\n",
              "Solids             0.0\n",
              "Chloramines        0.0\n",
              "Sulfate            0.0\n",
              "Conductivity       0.0\n",
              "Organic_carbon     0.0\n",
              "Trihalomethanes    0.0\n",
              "Turbidity          0.0\n",
              "Potability         0.0\n",
              "dtype: float64"
            ]
          },
          "metadata": {},
          "execution_count": 6
        }
      ],
      "source": [
        "data.fillna(data.mean(), inplace = True)\n",
        "data.isnull().mean()*100"
      ]
    },
    {
      "cell_type": "code",
      "execution_count": null,
      "metadata": {
        "id": "eJHETFTkGFGj"
      },
      "outputs": [],
      "source": [
        "y = data['Potability']\n",
        "X = data.drop(['Potability'],axis=1)"
      ]
    },
    {
      "cell_type": "code",
      "execution_count": null,
      "metadata": {
        "id": "YwOil4a60sxa"
      },
      "outputs": [],
      "source": [
        "X_train, X_test, y_train, y_test = train_test_split(X, y, test_size = 0.3, random_state = 0)"
      ]
    },
    {
      "cell_type": "code",
      "execution_count": null,
      "metadata": {
        "id": "i0w0eG9j0s0V"
      },
      "outputs": [],
      "source": [
        "sc = StandardScaler()\n",
        "X_train_scaled = sc.fit_transform(X_train)"
      ]
    },
    {
      "cell_type": "code",
      "execution_count": null,
      "metadata": {
        "id": "p7bLXH3j0s3c"
      },
      "outputs": [],
      "source": [
        "X_test_scaled = sc.transform(X_test)"
      ]
    },
    {
      "cell_type": "code",
      "execution_count": null,
      "metadata": {
        "id": "yx--K9_PNxwM"
      },
      "outputs": [],
      "source": [
        "from sklearn.neighbors import KNeighborsClassifier"
      ]
    },
    {
      "cell_type": "code",
      "execution_count": null,
      "metadata": {
        "id": "zxMOIZdBPj3g"
      },
      "outputs": [],
      "source": [
        "knn = KNeighborsClassifier(n_neighbors=5)"
      ]
    },
    {
      "cell_type": "code",
      "execution_count": null,
      "metadata": {
        "colab": {
          "base_uri": "https://localhost:8080/"
        },
        "id": "ACdbGyCHPE9X",
        "outputId": "463a0c73-f6aa-4223-f34d-1e7f29c62692"
      },
      "outputs": [
        {
          "output_type": "execute_result",
          "data": {
            "text/plain": [
              "KNeighborsClassifier()"
            ]
          },
          "metadata": {},
          "execution_count": 13
        }
      ],
      "source": [
        "knn.fit(X_train_scaled, y_train)"
      ]
    },
    {
      "cell_type": "code",
      "execution_count": null,
      "metadata": {
        "id": "SUmaalXSNx3q"
      },
      "outputs": [],
      "source": [
        "y_pred = knn.predict(X_test_scaled)"
      ]
    },
    {
      "cell_type": "code",
      "execution_count": null,
      "metadata": {
        "colab": {
          "base_uri": "https://localhost:8080/"
        },
        "id": "jv2APPr7Nx6k",
        "outputId": "7080d992-2a95-4f5e-918a-12d0e57f690a"
      },
      "outputs": [
        {
          "output_type": "stream",
          "name": "stdout",
          "text": [
            "Accuracy :  0.6337741607324516\n"
          ]
        }
      ],
      "source": [
        "print(\"Accuracy : \", metrics.accuracy_score(y_test, y_pred))"
      ]
    },
    {
      "cell_type": "markdown",
      "metadata": {
        "id": "ThPGHEx_K08P"
      },
      "source": [
        "**Creating loop for the best value of K**"
      ]
    },
    {
      "cell_type": "code",
      "execution_count": null,
      "metadata": {
        "colab": {
          "base_uri": "https://localhost:8080/"
        },
        "id": "EM5JUxqhK8Cw",
        "outputId": "58b1a105-afc6-402b-e716-5297479cf9f2"
      },
      "outputs": [
        {
          "output_type": "execute_result",
          "data": {
            "text/plain": [
              "array([0.60223805, 0.63173957, 0.61342828, 0.64292981, 0.63377416,\n",
              "       0.65412004, 0.64598169, 0.65005086, 0.6439471 , 0.64801628,\n",
              "       0.64191251, 0.64903357, 0.64496439, 0.63275687, 0.63784334,\n",
              "       0.65818922, 0.6602238 , 0.65513733, 0.65412004, 0.64598169])"
            ]
          },
          "metadata": {},
          "execution_count": 16
        }
      ],
      "source": [
        "K = 20\n",
        "Acc = np.zeros((K))\n",
        "for i in range(1, K+1):\n",
        "    clf = KNeighborsClassifier(n_neighbors = i)\n",
        "    clf.fit(X_train_scaled, y_train.ravel())\n",
        "    y_pred = clf.predict(X_test_scaled)\n",
        "    Acc[i-1] = metrics.accuracy_score(y_test, y_pred)\n",
        "Acc"
      ]
    },
    {
      "cell_type": "code",
      "execution_count": null,
      "metadata": {
        "colab": {
          "base_uri": "https://localhost:8080/"
        },
        "id": "SbhC5s1hLNVv",
        "outputId": "ef96e211-ee66-47ee-f14a-33fef43df263"
      },
      "outputs": [
        {
          "output_type": "stream",
          "name": "stdout",
          "text": [
            "0.6602238046795524\n",
            "0.602238046795524\n"
          ]
        }
      ],
      "source": [
        "print(np.max(Acc))\n",
        "print(np.min(Acc))"
      ]
    },
    {
      "cell_type": "code",
      "execution_count": null,
      "metadata": {
        "colab": {
          "base_uri": "https://localhost:8080/",
          "height": 279
        },
        "id": "kAMwyP2uLe08",
        "outputId": "1cf63fbb-3f0d-4693-802b-8d68cd695389"
      },
      "outputs": [
        {
          "output_type": "display_data",
          "data": {
            "text/plain": [
              "<Figure size 432x288 with 1 Axes>"
            ],
            "image/png": "[encoded data removed]"
          },
          "metadata": {
            "needs_background": "light"
          }
        }
      ],
      "source": [
        "training_acc = []\n",
        "test_acc = []\n",
        "\n",
        "# try KNN for different k nearest neighbor from 1 to 30\n",
        "neighbors_setting = range(1, 30)\n",
        "\n",
        "for n_neighbors in neighbors_setting:\n",
        "    knn = KNeighborsClassifier(n_neighbors = n_neighbors)\n",
        "    knn.fit(X_train_scaled, y_train.ravel())\n",
        "    training_acc.append(knn.score(X_train_scaled, y_train))\n",
        "    test_acc.append(knn.score(X_test_scaled, y_test))\n",
        "plt.plot(neighbors_setting, training_acc, label = 'Accuracy of the training set')\n",
        "plt.plot(neighbors_setting, test_acc, label = 'Accuracy of the test set')\n",
        "plt.ylabel('Accuracy')\n",
        "plt.xlabel('Number of Neighbors')\n",
        "plt.grid(True)\n",
        "plt.legend()\n",
        "plt.show()  "
      ]
    }
  ],
  "metadata": {
    "colab": {
      "provenance": []
    },
    "kernelspec": {
      "display_name": "Python 3",
      "name": "python3"
    },
    "language_info": {
      "name": "python"
    }
  },
  "nbformat": 4,
  "nbformat_minor": 0
}