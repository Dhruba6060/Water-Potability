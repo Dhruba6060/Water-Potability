{
  "nbformat": 4,
  "nbformat_minor": 0,
  "metadata": {
    "colab": {
      "provenance": []
    },
    "kernelspec": {
      "name": "python3",
      "display_name": "Python 3"
    },
    "language_info": {
      "name": "python"
    }
  },
  "cells": [
    {
      "cell_type": "code",
      "execution_count": null,
      "metadata": {
        "id": "Zu95dWAmhE-p"
      },
      "outputs": [],
      "source": [
        "import pandas as pd\n",
        "import numpy as np\n",
        "from sklearn.model_selection import train_test_split\n",
        "from sklearn.preprocessing import StandardScaler\n",
        "from sklearn import metrics\n",
        "import matplotlib.pyplot as plt\n",
        "import seaborn as sns"
      ]
    },
    {
      "cell_type": "code",
      "source": [
        "data = pd.read_csv(\"/content/drive/MyDrive/water_potability.csv\")"
      ],
      "metadata": {
        "id": "5nXZVvANhG8z"
      },
      "execution_count": null,
      "outputs": []
    },
    {
      "cell_type": "code",
      "source": [
        "data.fillna(data.mean(), inplace = True)\n",
        "data.isnull().mean()*100"
      ],
      "metadata": {
        "colab": {
          "base_uri": "https://localhost:8080/"
        },
        "id": "eTlVXtIzhHCM",
        "outputId": "ecbe505b-bf83-46f0-ee33-4b033890f462"
      },
      "execution_count": null,
      "outputs": [
        {
          "output_type": "execute_result",
          "data": {
            "text/plain": [
              "ph                 0.0\n",
              "Hardness           0.0\n",
              "Solids             0.0\n",
              "Chloramines        0.0\n",
              "Sulfate            0.0\n",
              "Conductivity       0.0\n",
              "Organic_carbon     0.0\n",
              "Trihalomethanes    0.0\n",
              "Turbidity          0.0\n",
              "Potability         0.0\n",
              "dtype: float64"
            ]
          },
          "metadata": {},
          "execution_count": 3
        }
      ]
    },
    {
      "cell_type": "code",
      "source": [
        "y = data['Potability']\n",
        "X = data.drop(['Potability'],axis=1)"
      ],
      "metadata": {
        "id": "DmHjQkLXhHFo"
      },
      "execution_count": null,
      "outputs": []
    },
    {
      "cell_type": "code",
      "source": [
        "X_train, X_test, y_train, y_test = train_test_split(X, y, test_size = 0.3, random_state = 0)"
      ],
      "metadata": {
        "id": "3wQ3se-vhHJI"
      },
      "execution_count": null,
      "outputs": []
    },
    {
      "cell_type": "code",
      "source": [
        "sc = StandardScaler()\n",
        "X_train_scaled = sc.fit_transform(X_train)\n",
        "X_test_scaled = sc.transform(X_test)"
      ],
      "metadata": {
        "id": "EheXCh4nhHM7"
      },
      "execution_count": null,
      "outputs": []
    },
    {
      "cell_type": "code",
      "source": [
        "from sklearn.ensemble import GradientBoostingClassifier"
      ],
      "metadata": {
        "id": "3S7VcZiJhXQ4"
      },
      "execution_count": null,
      "outputs": []
    },
    {
      "cell_type": "markdown",
      "source": [
        "**Gradient Boost**"
      ],
      "metadata": {
        "id": "OmNT6BDtvHKT"
      }
    },
    {
      "cell_type": "code",
      "source": [
        "#gb = GradientBoostingClassifier()"
      ],
      "metadata": {
        "id": "fdyslfR3hXTc"
      },
      "execution_count": null,
      "outputs": []
    },
    {
      "cell_type": "code",
      "source": [
        "#gb.fit(X_train_scaled, y_train)"
      ],
      "metadata": {
        "id": "smvuJCJphXV8"
      },
      "execution_count": null,
      "outputs": []
    },
    {
      "cell_type": "code",
      "source": [
        "#y_pred = gb.predict(X_test_scaled)"
      ],
      "metadata": {
        "id": "_9-H5wGDhHQK"
      },
      "execution_count": null,
      "outputs": []
    },
    {
      "cell_type": "code",
      "source": [
        "#print(\"Accuracy : \", metrics.accuracy_score(y_test, y_pred))"
      ],
      "metadata": {
        "id": "OH5tZMS9hsVk"
      },
      "execution_count": null,
      "outputs": []
    },
    {
      "cell_type": "markdown",
      "source": [
        "**XGBoost**"
      ],
      "metadata": {
        "id": "zX2_viu9vME6"
      }
    },
    {
      "cell_type": "code",
      "source": [
        "from xgboost import XGBClassifier"
      ],
      "metadata": {
        "id": "ik6sXAkgqdZm"
      },
      "execution_count": null,
      "outputs": []
    },
    {
      "cell_type": "code",
      "source": [
        "xgb = XGBClassifier()"
      ],
      "metadata": {
        "id": "wL51JiSJqdid"
      },
      "execution_count": null,
      "outputs": []
    },
    {
      "cell_type": "code",
      "source": [
        "xgb.fit(X_train_scaled, y_train)"
      ],
      "metadata": {
        "colab": {
          "base_uri": "https://localhost:8080/"
        },
        "id": "TYg2cMXeqdlK",
        "outputId": "7f23892b-84f8-4605-8eb1-e5232d48efb2"
      },
      "execution_count": null,
      "outputs": [
        {
          "output_type": "execute_result",
          "data": {
            "text/plain": [
              "XGBClassifier()"
            ]
          },
          "metadata": {},
          "execution_count": 10
        }
      ]
    },
    {
      "cell_type": "code",
      "source": [
        "y_pred = xgb.predict(X_test_scaled)"
      ],
      "metadata": {
        "id": "qrlQL-zcqdo6"
      },
      "execution_count": null,
      "outputs": []
    },
    {
      "cell_type": "code",
      "source": [
        "print(\"Accuracy : \", metrics.accuracy_score(y_test, y_pred))"
      ],
      "metadata": {
        "colab": {
          "base_uri": "https://localhost:8080/"
        },
        "id": "7WH_0v6-qd01",
        "outputId": "b3da71ba-cb62-4c22-9697-01af6f8482bd"
      },
      "execution_count": null,
      "outputs": [
        {
          "output_type": "stream",
          "name": "stdout",
          "text": [
            "Accuracy :  0.6795523906408952\n"
          ]
        }
      ]
    },
    {
      "cell_type": "code",
      "source": [
        "params={\n",
        " \"learning_rate\"    : [0.05, 0.10, 0.15, 0.20, 0.25, 0.30,0.4,0.5,0.6,0.7,0.8] ,\n",
        " \"max_depth\"        : [ 3, 4, 5, 6, 8, 10],\n",
        " \"min_child_weight\" : [ 1, 3, 5, 7,8,9,10,11,12 ],\n",
        " \"gamma\"            : [ 0.0, 0.1, 0.2 , 0.3, 0.4,0.7,0.8,0.9,1,3,4,5,6,7,8],\n",
        " \"colsample_bytree\" : [ 0.3, 0.4, 0.5 , 0.7,0.8]\n",
        "    \n",
        "}"
      ],
      "metadata": {
        "id": "2Sw-OitWBvmx"
      },
      "execution_count": null,
      "outputs": []
    },
    {
      "cell_type": "code",
      "source": [
        "from sklearn.model_selection import GridSearchCV\n",
        "gs_knn = GridSearchCV(xgb,\n",
        "                      param_grid=params,\n",
        "                      scoring='accuracy',\n",
        "                      cv=5)"
      ],
      "metadata": {
        "id": "5uymY5Uq_8DJ"
      },
      "execution_count": null,
      "outputs": []
    },
    {
      "cell_type": "code",
      "source": [
        "search = gs_knn.fit(X_train_scaled, y_train)"
      ],
      "metadata": {
        "id": "eMzFT-TZ_8G7"
      },
      "execution_count": null,
      "outputs": []
    },
    {
      "cell_type": "code",
      "source": [
        "search.best_params_"
      ],
      "metadata": {
        "colab": {
          "base_uri": "https://localhost:8080/"
        },
        "id": "wpM0nhDRC_-0",
        "outputId": "ce537df1-47f9-407e-80d4-42c662ec09e5"
      },
      "execution_count": null,
      "outputs": [
        {
          "output_type": "execute_result",
          "data": {
            "text/plain": [
              "{'min_child_weight': 1,\n",
              " 'max_depth': 8,\n",
              " 'learning_rate': 0.15,\n",
              " 'gamma': 7,\n",
              " 'colsample_bytree': 0.8}"
            ]
          },
          "metadata": {},
          "execution_count": 35
        }
      ]
    },
    {
      "cell_type": "code",
      "source": [
        "search.best_estimator_"
      ],
      "metadata": {
        "colab": {
          "base_uri": "https://localhost:8080/"
        },
        "id": "VKNNSc1H_8MJ",
        "outputId": "556ae840-cfcd-4ed6-cd71-c33252c3a688"
      },
      "execution_count": null,
      "outputs": [
        {
          "output_type": "execute_result",
          "data": {
            "text/plain": [
              "XGBClassifier(colsample_bytree=0.8, gamma=7, learning_rate=0.15, max_depth=8)"
            ]
          },
          "metadata": {},
          "execution_count": 36
        }
      ]
    },
    {
      "cell_type": "code",
      "source": [
        "xgb = XGBClassifier(min_child_weight=1,max_depth=8,learning_rate=0.15,gamma=7,colsample_bytree=0.8)"
      ],
      "metadata": {
        "id": "h3Isue0PC9h_"
      },
      "execution_count": null,
      "outputs": []
    },
    {
      "cell_type": "code",
      "source": [
        "xgb.fit(X_train_scaled, y_train)"
      ],
      "metadata": {
        "colab": {
          "base_uri": "https://localhost:8080/"
        },
        "id": "ACZgx2UCD3WT",
        "outputId": "03bc9489-8d9f-46fc-ffb8-c857a7cd6e4c"
      },
      "execution_count": null,
      "outputs": [
        {
          "output_type": "execute_result",
          "data": {
            "text/plain": [
              "XGBClassifier(colsample_bytree=0.8, gamma=7, learning_rate=0.15, max_depth=8)"
            ]
          },
          "metadata": {},
          "execution_count": 38
        }
      ]
    },
    {
      "cell_type": "code",
      "source": [
        "y_pred = xgb.predict(X_test_scaled)"
      ],
      "metadata": {
        "id": "CSYzFld1D3ku"
      },
      "execution_count": null,
      "outputs": []
    },
    {
      "cell_type": "code",
      "source": [
        "print(\"Accuracy : \", metrics.accuracy_score(y_test, y_pred))"
      ],
      "metadata": {
        "colab": {
          "base_uri": "https://localhost:8080/"
        },
        "id": "cdGatIhxC9lW",
        "outputId": "b1fcb8e2-82a3-44a2-a07d-54e52163a350"
      },
      "execution_count": null,
      "outputs": [
        {
          "output_type": "stream",
          "name": "stdout",
          "text": [
            "Accuracy :  0.6734486266531028\n"
          ]
        }
      ]
    }
  ]
}